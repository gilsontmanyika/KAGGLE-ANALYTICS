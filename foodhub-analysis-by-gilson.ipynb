{
 "cells": [
  {
   "cell_type": "code",
   "execution_count": 1,
   "id": "0348412b",
   "metadata": {
    "_cell_guid": "b1076dfc-b9ad-4769-8c92-a6c4dae69d19",
    "_uuid": "8f2839f25d086af736a60e9eeb907d3b93b6e0e5",
    "execution": {
     "iopub.execute_input": "2025-02-08T21:21:55.429898Z",
     "iopub.status.busy": "2025-02-08T21:21:55.429481Z",
     "iopub.status.idle": "2025-02-08T21:21:56.532084Z",
     "shell.execute_reply": "2025-02-08T21:21:56.530588Z"
    },
    "papermill": {
     "duration": 1.113061,
     "end_time": "2025-02-08T21:21:56.534111",
     "exception": false,
     "start_time": "2025-02-08T21:21:55.421050",
     "status": "completed"
    },
    "tags": []
   },
   "outputs": [
    {
     "name": "stdout",
     "output_type": "stream",
     "text": [
      "/kaggle/input/foodhub-data/foodhub_order.csv\n"
     ]
    }
   ],
   "source": [
    "# This Python 3 environment comes with many helpful analytics libraries installed\n",
    "# It is defined by the kaggle/python Docker image: https://github.com/kaggle/docker-python\n",
    "# For example, here's several helpful packages to load\n",
    "\n",
    "import numpy as np # linear algebra\n",
    "import pandas as pd # data processing, CSV file I/O (e.g. pd.read_csv)\n",
    "\n",
    "# Input data files are available in the read-only \"../input/\" directory\n",
    "# For example, running this (by clicking run or pressing Shift+Enter) will list all files under the input directory\n",
    "\n",
    "import os\n",
    "for dirname, _, filenames in os.walk('/kaggle/input'):\n",
    "    for filename in filenames:\n",
    "        print(os.path.join(dirname, filename))\n",
    "\n",
    "# You can write up to 20GB to the current directory (/kaggle/working/) that gets preserved as output when you create a version using \"Save & Run All\" \n",
    "# You can also write temporary files to /kaggle/temp/, but they won't be saved outside of the current session"
   ]
  },
  {
   "cell_type": "markdown",
   "id": "502a7bcd",
   "metadata": {
    "papermill": {
     "duration": 0.00618,
     "end_time": "2025-02-08T21:21:56.547751",
     "exception": false,
     "start_time": "2025-02-08T21:21:56.541571",
     "status": "completed"
    },
    "tags": []
   },
   "source": [
    "# GETTING FAMILIAR WITH THE DATASET \n",
    "* getting to know the shape of the dataset and other relationships of some fields"
   ]
  },
  {
   "cell_type": "code",
   "execution_count": 2,
   "id": "4d2d2236",
   "metadata": {
    "execution": {
     "iopub.execute_input": "2025-02-08T21:21:56.562138Z",
     "iopub.status.busy": "2025-02-08T21:21:56.561668Z",
     "iopub.status.idle": "2025-02-08T21:22:26.568445Z",
     "shell.execute_reply": "2025-02-08T21:22:26.566960Z"
    },
    "papermill": {
     "duration": 30.016204,
     "end_time": "2025-02-08T21:22:26.570410",
     "exception": false,
     "start_time": "2025-02-08T21:21:56.554206",
     "status": "completed"
    },
    "tags": []
   },
   "outputs": [
    {
     "name": "stdout",
     "output_type": "stream",
     "text": [
      "Collecting matplotlib==3.7.1\r\n",
      "  Downloading matplotlib-3.7.1-cp310-cp310-manylinux_2_17_x86_64.manylinux2014_x86_64.whl.metadata (5.6 kB)\r\n",
      "Collecting seaborn==0.13.1\r\n",
      "  Downloading seaborn-0.13.1-py3-none-any.whl.metadata (5.4 kB)\r\n",
      "Requirement already satisfied: contourpy>=1.0.1 in /usr/local/lib/python3.10/dist-packages (from matplotlib==3.7.1) (1.3.1)\r\n",
      "Requirement already satisfied: cycler>=0.10 in /usr/local/lib/python3.10/dist-packages (from matplotlib==3.7.1) (0.12.1)\r\n",
      "Requirement already satisfied: fonttools>=4.22.0 in /usr/local/lib/python3.10/dist-packages (from matplotlib==3.7.1) (4.55.3)\r\n",
      "Requirement already satisfied: kiwisolver>=1.0.1 in /usr/local/lib/python3.10/dist-packages (from matplotlib==3.7.1) (1.4.7)\r\n",
      "Requirement already satisfied: numpy>=1.20 in /usr/local/lib/python3.10/dist-packages (from matplotlib==3.7.1) (1.26.4)\r\n",
      "Requirement already satisfied: packaging>=20.0 in /usr/local/lib/python3.10/dist-packages (from matplotlib==3.7.1) (24.2)\r\n",
      "Requirement already satisfied: pillow>=6.2.0 in /usr/local/lib/python3.10/dist-packages (from matplotlib==3.7.1) (11.0.0)\r\n",
      "Requirement already satisfied: pyparsing>=2.3.1 in /usr/local/lib/python3.10/dist-packages (from matplotlib==3.7.1) (3.2.0)\r\n",
      "Requirement already satisfied: python-dateutil>=2.7 in /usr/local/lib/python3.10/dist-packages (from matplotlib==3.7.1) (2.9.0.post0)\r\n",
      "Requirement already satisfied: pandas>=1.2 in /usr/local/lib/python3.10/dist-packages (from seaborn==0.13.1) (2.2.3)\r\n",
      "Requirement already satisfied: mkl_fft in /usr/local/lib/python3.10/dist-packages (from numpy>=1.20->matplotlib==3.7.1) (1.3.8)\r\n",
      "Requirement already satisfied: mkl_random in /usr/local/lib/python3.10/dist-packages (from numpy>=1.20->matplotlib==3.7.1) (1.2.4)\r\n",
      "Requirement already satisfied: mkl_umath in /usr/local/lib/python3.10/dist-packages (from numpy>=1.20->matplotlib==3.7.1) (0.1.1)\r\n",
      "Requirement already satisfied: mkl in /usr/local/lib/python3.10/dist-packages (from numpy>=1.20->matplotlib==3.7.1) (2025.0.1)\r\n",
      "Requirement already satisfied: tbb4py in /usr/local/lib/python3.10/dist-packages (from numpy>=1.20->matplotlib==3.7.1) (2022.0.0)\r\n",
      "Requirement already satisfied: mkl-service in /usr/local/lib/python3.10/dist-packages (from numpy>=1.20->matplotlib==3.7.1) (2.4.1)\r\n",
      "Requirement already satisfied: pytz>=2020.1 in /usr/local/lib/python3.10/dist-packages (from pandas>=1.2->seaborn==0.13.1) (2025.1)\r\n",
      "Requirement already satisfied: tzdata>=2022.7 in /usr/local/lib/python3.10/dist-packages (from pandas>=1.2->seaborn==0.13.1) (2025.1)\r\n",
      "Requirement already satisfied: six>=1.5 in /usr/local/lib/python3.10/dist-packages (from python-dateutil>=2.7->matplotlib==3.7.1) (1.17.0)\r\n",
      "Requirement already satisfied: intel-openmp>=2024 in /usr/local/lib/python3.10/dist-packages (from mkl->numpy>=1.20->matplotlib==3.7.1) (2024.2.0)\r\n",
      "Requirement already satisfied: tbb==2022.* in /usr/local/lib/python3.10/dist-packages (from mkl->numpy>=1.20->matplotlib==3.7.1) (2022.0.0)\r\n",
      "Requirement already satisfied: tcmlib==1.* in /usr/local/lib/python3.10/dist-packages (from tbb==2022.*->mkl->numpy>=1.20->matplotlib==3.7.1) (1.2.0)\r\n",
      "Requirement already satisfied: intel-cmplr-lib-rt in /usr/local/lib/python3.10/dist-packages (from mkl_umath->numpy>=1.20->matplotlib==3.7.1) (2024.2.0)\r\n",
      "Requirement already satisfied: intel-cmplr-lib-ur==2024.2.0 in /usr/local/lib/python3.10/dist-packages (from intel-openmp>=2024->mkl->numpy>=1.20->matplotlib==3.7.1) (2024.2.0)\r\n",
      "Downloading matplotlib-3.7.1-cp310-cp310-manylinux_2_17_x86_64.manylinux2014_x86_64.whl (11.6 MB)\r\n",
      "\u001b[2K   \u001b[90m━━━━━━━━━━━━━━━━━━━━━━━━━━━━━━━━━━━━━━━━\u001b[0m \u001b[32m11.6/11.6 MB\u001b[0m \u001b[31m49.0 MB/s\u001b[0m eta \u001b[36m0:00:00\u001b[0m\r\n",
      "\u001b[?25hDownloading seaborn-0.13.1-py3-none-any.whl (294 kB)\r\n",
      "\u001b[2K   \u001b[90m━━━━━━━━━━━━━━━━━━━━━━━━━━━━━━━━━━━━━━━━\u001b[0m \u001b[32m294.8/294.8 kB\u001b[0m \u001b[31m13.1 MB/s\u001b[0m eta \u001b[36m0:00:00\u001b[0m\r\n",
      "\u001b[?25hInstalling collected packages: matplotlib, seaborn\r\n",
      "  Attempting uninstall: matplotlib\r\n",
      "    Found existing installation: matplotlib 3.7.5\r\n",
      "    Uninstalling matplotlib-3.7.5:\r\n",
      "      Successfully uninstalled matplotlib-3.7.5\r\n",
      "  Attempting uninstall: seaborn\r\n",
      "    Found existing installation: seaborn 0.12.2\r\n",
      "    Uninstalling seaborn-0.12.2:\r\n",
      "      Successfully uninstalled seaborn-0.12.2\r\n",
      "\u001b[31mERROR: pip's dependency resolver does not currently take into account all the packages that are installed. This behaviour is the source of the following dependency conflicts.\r\n",
      "mlxtend 0.23.3 requires scikit-learn>=1.3.1, but you have scikit-learn 1.2.2 which is incompatible.\r\n",
      "plotnine 0.14.4 requires matplotlib>=3.8.0, but you have matplotlib 3.7.1 which is incompatible.\u001b[0m\u001b[31m\r\n",
      "\u001b[0mSuccessfully installed matplotlib-3.7.1 seaborn-0.13.1\r\n"
     ]
    }
   ],
   "source": [
    "!pip install matplotlib==3.7.1 seaborn==0.13.1"
   ]
  },
  {
   "cell_type": "code",
   "execution_count": 3,
   "id": "49b0888f",
   "metadata": {
    "execution": {
     "iopub.execute_input": "2025-02-08T21:22:26.587862Z",
     "iopub.status.busy": "2025-02-08T21:22:26.587414Z",
     "iopub.status.idle": "2025-02-08T21:22:28.193077Z",
     "shell.execute_reply": "2025-02-08T21:22:28.191860Z"
    },
    "papermill": {
     "duration": 1.616317,
     "end_time": "2025-02-08T21:22:28.195016",
     "exception": false,
     "start_time": "2025-02-08T21:22:26.578699",
     "status": "completed"
    },
    "tags": []
   },
   "outputs": [],
   "source": [
    "# Import libraries for data visualization\n",
    "import matplotlib.pyplot as plt\n",
    "import seaborn as sns"
   ]
  },
  {
   "cell_type": "code",
   "execution_count": 4,
   "id": "54edb4d2",
   "metadata": {
    "execution": {
     "iopub.execute_input": "2025-02-08T21:22:28.212244Z",
     "iopub.status.busy": "2025-02-08T21:22:28.211713Z",
     "iopub.status.idle": "2025-02-08T21:22:28.266776Z",
     "shell.execute_reply": "2025-02-08T21:22:28.265680Z"
    },
    "papermill": {
     "duration": 0.065694,
     "end_time": "2025-02-08T21:22:28.268675",
     "exception": false,
     "start_time": "2025-02-08T21:22:28.202981",
     "status": "completed"
    },
    "tags": []
   },
   "outputs": [
    {
     "data": {
      "text/html": [
       "<div>\n",
       "<style scoped>\n",
       "    .dataframe tbody tr th:only-of-type {\n",
       "        vertical-align: middle;\n",
       "    }\n",
       "\n",
       "    .dataframe tbody tr th {\n",
       "        vertical-align: top;\n",
       "    }\n",
       "\n",
       "    .dataframe thead th {\n",
       "        text-align: right;\n",
       "    }\n",
       "</style>\n",
       "<table border=\"1\" class=\"dataframe\">\n",
       "  <thead>\n",
       "    <tr style=\"text-align: right;\">\n",
       "      <th></th>\n",
       "      <th>order_id</th>\n",
       "      <th>customer_id</th>\n",
       "      <th>restaurant_name</th>\n",
       "      <th>cuisine_type</th>\n",
       "      <th>cost_of_the_order</th>\n",
       "      <th>day_of_the_week</th>\n",
       "      <th>rating</th>\n",
       "      <th>food_preparation_time</th>\n",
       "      <th>delivery_time</th>\n",
       "    </tr>\n",
       "  </thead>\n",
       "  <tbody>\n",
       "    <tr>\n",
       "      <th>0</th>\n",
       "      <td>1477147</td>\n",
       "      <td>337525</td>\n",
       "      <td>Hangawi</td>\n",
       "      <td>Korean</td>\n",
       "      <td>30.75</td>\n",
       "      <td>Weekend</td>\n",
       "      <td>Not given</td>\n",
       "      <td>25</td>\n",
       "      <td>20</td>\n",
       "    </tr>\n",
       "    <tr>\n",
       "      <th>1</th>\n",
       "      <td>1477685</td>\n",
       "      <td>358141</td>\n",
       "      <td>Blue Ribbon Sushi Izakaya</td>\n",
       "      <td>Japanese</td>\n",
       "      <td>12.08</td>\n",
       "      <td>Weekend</td>\n",
       "      <td>Not given</td>\n",
       "      <td>25</td>\n",
       "      <td>23</td>\n",
       "    </tr>\n",
       "    <tr>\n",
       "      <th>2</th>\n",
       "      <td>1477070</td>\n",
       "      <td>66393</td>\n",
       "      <td>Cafe Habana</td>\n",
       "      <td>Mexican</td>\n",
       "      <td>12.23</td>\n",
       "      <td>Weekday</td>\n",
       "      <td>5</td>\n",
       "      <td>23</td>\n",
       "      <td>28</td>\n",
       "    </tr>\n",
       "    <tr>\n",
       "      <th>3</th>\n",
       "      <td>1477334</td>\n",
       "      <td>106968</td>\n",
       "      <td>Blue Ribbon Fried Chicken</td>\n",
       "      <td>American</td>\n",
       "      <td>29.20</td>\n",
       "      <td>Weekend</td>\n",
       "      <td>3</td>\n",
       "      <td>25</td>\n",
       "      <td>15</td>\n",
       "    </tr>\n",
       "    <tr>\n",
       "      <th>4</th>\n",
       "      <td>1478249</td>\n",
       "      <td>76942</td>\n",
       "      <td>Dirty Bird to Go</td>\n",
       "      <td>American</td>\n",
       "      <td>11.59</td>\n",
       "      <td>Weekday</td>\n",
       "      <td>4</td>\n",
       "      <td>25</td>\n",
       "      <td>24</td>\n",
       "    </tr>\n",
       "  </tbody>\n",
       "</table>\n",
       "</div>"
      ],
      "text/plain": [
       "   order_id  customer_id            restaurant_name cuisine_type  \\\n",
       "0   1477147       337525                    Hangawi       Korean   \n",
       "1   1477685       358141  Blue Ribbon Sushi Izakaya     Japanese   \n",
       "2   1477070        66393                Cafe Habana      Mexican   \n",
       "3   1477334       106968  Blue Ribbon Fried Chicken     American   \n",
       "4   1478249        76942           Dirty Bird to Go     American   \n",
       "\n",
       "   cost_of_the_order day_of_the_week     rating  food_preparation_time  \\\n",
       "0              30.75         Weekend  Not given                     25   \n",
       "1              12.08         Weekend  Not given                     25   \n",
       "2              12.23         Weekday          5                     23   \n",
       "3              29.20         Weekend          3                     25   \n",
       "4              11.59         Weekday          4                     25   \n",
       "\n",
       "   delivery_time  \n",
       "0             20  \n",
       "1             23  \n",
       "2             28  \n",
       "3             15  \n",
       "4             24  "
      ]
     },
     "execution_count": 4,
     "metadata": {},
     "output_type": "execute_result"
    }
   ],
   "source": [
    "#getting to know a preview of the data csv format\n",
    "df = pd.read_csv('/kaggle/input/foodhub-data/foodhub_order.csv')\n",
    "df.head()"
   ]
  },
  {
   "cell_type": "markdown",
   "id": "8b288822",
   "metadata": {
    "papermill": {
     "duration": 0.00767,
     "end_time": "2025-02-08T21:22:28.284461",
     "exception": false,
     "start_time": "2025-02-08T21:22:28.276791",
     "status": "completed"
    },
    "tags": []
   },
   "source": [
    "***KNOWING HOW MAY ROWS***\n",
    "returns answer as (rows, columns)"
   ]
  },
  {
   "cell_type": "code",
   "execution_count": 5,
   "id": "c5838d9a",
   "metadata": {
    "execution": {
     "iopub.execute_input": "2025-02-08T21:22:28.302697Z",
     "iopub.status.busy": "2025-02-08T21:22:28.302236Z",
     "iopub.status.idle": "2025-02-08T21:22:28.308712Z",
     "shell.execute_reply": "2025-02-08T21:22:28.307475Z"
    },
    "papermill": {
     "duration": 0.017525,
     "end_time": "2025-02-08T21:22:28.310696",
     "exception": false,
     "start_time": "2025-02-08T21:22:28.293171",
     "status": "completed"
    },
    "tags": []
   },
   "outputs": [
    {
     "data": {
      "text/plain": [
       "(1898, 9)"
      ]
     },
     "execution_count": 5,
     "metadata": {},
     "output_type": "execute_result"
    }
   ],
   "source": [
    "df.shape"
   ]
  },
  {
   "cell_type": "code",
   "execution_count": 6,
   "id": "dfda1f2e",
   "metadata": {
    "execution": {
     "iopub.execute_input": "2025-02-08T21:22:28.329297Z",
     "iopub.status.busy": "2025-02-08T21:22:28.328881Z",
     "iopub.status.idle": "2025-02-08T21:22:28.358672Z",
     "shell.execute_reply": "2025-02-08T21:22:28.357413Z"
    },
    "papermill": {
     "duration": 0.041308,
     "end_time": "2025-02-08T21:22:28.360345",
     "exception": false,
     "start_time": "2025-02-08T21:22:28.319037",
     "status": "completed"
    },
    "tags": []
   },
   "outputs": [
    {
     "name": "stdout",
     "output_type": "stream",
     "text": [
      "<class 'pandas.core.frame.DataFrame'>\n",
      "RangeIndex: 1898 entries, 0 to 1897\n",
      "Data columns (total 9 columns):\n",
      " #   Column                 Non-Null Count  Dtype  \n",
      "---  ------                 --------------  -----  \n",
      " 0   order_id               1898 non-null   int64  \n",
      " 1   customer_id            1898 non-null   int64  \n",
      " 2   restaurant_name        1898 non-null   object \n",
      " 3   cuisine_type           1898 non-null   object \n",
      " 4   cost_of_the_order      1898 non-null   float64\n",
      " 5   day_of_the_week        1898 non-null   object \n",
      " 6   rating                 1898 non-null   object \n",
      " 7   food_preparation_time  1898 non-null   int64  \n",
      " 8   delivery_time          1898 non-null   int64  \n",
      "dtypes: float64(1), int64(4), object(4)\n",
      "memory usage: 133.6+ KB\n"
     ]
    }
   ],
   "source": [
    "#knowing what types are assigned to each of the columns in our dataset\n",
    "df.info()"
   ]
  },
  {
   "cell_type": "code",
   "execution_count": 7,
   "id": "3bc7ab68",
   "metadata": {
    "execution": {
     "iopub.execute_input": "2025-02-08T21:22:28.377955Z",
     "iopub.status.busy": "2025-02-08T21:22:28.377623Z",
     "iopub.status.idle": "2025-02-08T21:22:28.386375Z",
     "shell.execute_reply": "2025-02-08T21:22:28.385280Z"
    },
    "papermill": {
     "duration": 0.019641,
     "end_time": "2025-02-08T21:22:28.388336",
     "exception": false,
     "start_time": "2025-02-08T21:22:28.368695",
     "status": "completed"
    },
    "tags": []
   },
   "outputs": [
    {
     "data": {
      "text/plain": [
       "order_id                 0\n",
       "customer_id              0\n",
       "restaurant_name          0\n",
       "cuisine_type             0\n",
       "cost_of_the_order        0\n",
       "day_of_the_week          0\n",
       "rating                   0\n",
       "food_preparation_time    0\n",
       "delivery_time            0\n",
       "dtype: int64"
      ]
     },
     "execution_count": 7,
     "metadata": {},
     "output_type": "execute_result"
    }
   ],
   "source": [
    "# Checking for missing values in the data\n",
    "df.isnull().sum()"
   ]
  },
  {
   "cell_type": "code",
   "execution_count": 8,
   "id": "eacc8364",
   "metadata": {
    "execution": {
     "iopub.execute_input": "2025-02-08T21:22:28.406526Z",
     "iopub.status.busy": "2025-02-08T21:22:28.406109Z",
     "iopub.status.idle": "2025-02-08T21:22:28.430823Z",
     "shell.execute_reply": "2025-02-08T21:22:28.429791Z"
    },
    "papermill": {
     "duration": 0.036296,
     "end_time": "2025-02-08T21:22:28.433139",
     "exception": false,
     "start_time": "2025-02-08T21:22:28.396843",
     "status": "completed"
    },
    "tags": []
   },
   "outputs": [
    {
     "data": {
      "text/html": [
       "<div>\n",
       "<style scoped>\n",
       "    .dataframe tbody tr th:only-of-type {\n",
       "        vertical-align: middle;\n",
       "    }\n",
       "\n",
       "    .dataframe tbody tr th {\n",
       "        vertical-align: top;\n",
       "    }\n",
       "\n",
       "    .dataframe thead th {\n",
       "        text-align: right;\n",
       "    }\n",
       "</style>\n",
       "<table border=\"1\" class=\"dataframe\">\n",
       "  <thead>\n",
       "    <tr style=\"text-align: right;\">\n",
       "      <th></th>\n",
       "      <th>order_id</th>\n",
       "      <th>customer_id</th>\n",
       "      <th>cost_of_the_order</th>\n",
       "      <th>food_preparation_time</th>\n",
       "      <th>delivery_time</th>\n",
       "    </tr>\n",
       "  </thead>\n",
       "  <tbody>\n",
       "    <tr>\n",
       "      <th>count</th>\n",
       "      <td>1.898000e+03</td>\n",
       "      <td>1898.000000</td>\n",
       "      <td>1898.000000</td>\n",
       "      <td>1898.000000</td>\n",
       "      <td>1898.000000</td>\n",
       "    </tr>\n",
       "    <tr>\n",
       "      <th>mean</th>\n",
       "      <td>1.477496e+06</td>\n",
       "      <td>171168.478398</td>\n",
       "      <td>16.498851</td>\n",
       "      <td>27.371970</td>\n",
       "      <td>24.161749</td>\n",
       "    </tr>\n",
       "    <tr>\n",
       "      <th>std</th>\n",
       "      <td>5.480497e+02</td>\n",
       "      <td>113698.139743</td>\n",
       "      <td>7.483812</td>\n",
       "      <td>4.632481</td>\n",
       "      <td>4.972637</td>\n",
       "    </tr>\n",
       "    <tr>\n",
       "      <th>min</th>\n",
       "      <td>1.476547e+06</td>\n",
       "      <td>1311.000000</td>\n",
       "      <td>4.470000</td>\n",
       "      <td>20.000000</td>\n",
       "      <td>15.000000</td>\n",
       "    </tr>\n",
       "    <tr>\n",
       "      <th>25%</th>\n",
       "      <td>1.477021e+06</td>\n",
       "      <td>77787.750000</td>\n",
       "      <td>12.080000</td>\n",
       "      <td>23.000000</td>\n",
       "      <td>20.000000</td>\n",
       "    </tr>\n",
       "    <tr>\n",
       "      <th>50%</th>\n",
       "      <td>1.477496e+06</td>\n",
       "      <td>128600.000000</td>\n",
       "      <td>14.140000</td>\n",
       "      <td>27.000000</td>\n",
       "      <td>25.000000</td>\n",
       "    </tr>\n",
       "    <tr>\n",
       "      <th>75%</th>\n",
       "      <td>1.477970e+06</td>\n",
       "      <td>270525.000000</td>\n",
       "      <td>22.297500</td>\n",
       "      <td>31.000000</td>\n",
       "      <td>28.000000</td>\n",
       "    </tr>\n",
       "    <tr>\n",
       "      <th>max</th>\n",
       "      <td>1.478444e+06</td>\n",
       "      <td>405334.000000</td>\n",
       "      <td>35.410000</td>\n",
       "      <td>35.000000</td>\n",
       "      <td>33.000000</td>\n",
       "    </tr>\n",
       "  </tbody>\n",
       "</table>\n",
       "</div>"
      ],
      "text/plain": [
       "           order_id    customer_id  cost_of_the_order  food_preparation_time  \\\n",
       "count  1.898000e+03    1898.000000        1898.000000            1898.000000   \n",
       "mean   1.477496e+06  171168.478398          16.498851              27.371970   \n",
       "std    5.480497e+02  113698.139743           7.483812               4.632481   \n",
       "min    1.476547e+06    1311.000000           4.470000              20.000000   \n",
       "25%    1.477021e+06   77787.750000          12.080000              23.000000   \n",
       "50%    1.477496e+06  128600.000000          14.140000              27.000000   \n",
       "75%    1.477970e+06  270525.000000          22.297500              31.000000   \n",
       "max    1.478444e+06  405334.000000          35.410000              35.000000   \n",
       "\n",
       "       delivery_time  \n",
       "count    1898.000000  \n",
       "mean       24.161749  \n",
       "std         4.972637  \n",
       "min        15.000000  \n",
       "25%        20.000000  \n",
       "50%        25.000000  \n",
       "75%        28.000000  \n",
       "max        33.000000  "
      ]
     },
     "execution_count": 8,
     "metadata": {},
     "output_type": "execute_result"
    }
   ],
   "source": [
    "#checking for statistical shape of the data\n",
    "#givves a standard time of food preparation and delivery time being 4.6 miutes and 5minutes respectively\n",
    "df.describe()"
   ]
  },
  {
   "cell_type": "code",
   "execution_count": 9,
   "id": "301d4c2e",
   "metadata": {
    "execution": {
     "iopub.execute_input": "2025-02-08T21:22:28.452256Z",
     "iopub.status.busy": "2025-02-08T21:22:28.451926Z",
     "iopub.status.idle": "2025-02-08T21:22:28.461883Z",
     "shell.execute_reply": "2025-02-08T21:22:28.460763Z"
    },
    "papermill": {
     "duration": 0.021427,
     "end_time": "2025-02-08T21:22:28.463739",
     "exception": false,
     "start_time": "2025-02-08T21:22:28.442312",
     "status": "completed"
    },
    "tags": []
   },
   "outputs": [
    {
     "data": {
      "text/plain": [
       "count    1898.000000\n",
       "mean       24.161749\n",
       "std         4.972637\n",
       "min        15.000000\n",
       "25%        20.000000\n",
       "50%        25.000000\n",
       "75%        28.000000\n",
       "max        33.000000\n",
       "Name: delivery_time, dtype: float64"
      ]
     },
     "execution_count": 9,
     "metadata": {},
     "output_type": "execute_result"
    }
   ],
   "source": [
    "#doing it for single column\n",
    "df['delivery_time'].describe()"
   ]
  },
  {
   "cell_type": "markdown",
   "id": "dc14fbd5",
   "metadata": {
    "papermill": {
     "duration": 0.008581,
     "end_time": "2025-02-08T21:22:28.481053",
     "exception": false,
     "start_time": "2025-02-08T21:22:28.472472",
     "status": "completed"
    },
    "tags": []
   },
   "source": [
    "***KNOWING HOW MANY OF THE ORDERS ARE NOT RANKED***"
   ]
  },
  {
   "cell_type": "code",
   "execution_count": 10,
   "id": "f03818a6",
   "metadata": {
    "execution": {
     "iopub.execute_input": "2025-02-08T21:22:28.499895Z",
     "iopub.status.busy": "2025-02-08T21:22:28.499505Z",
     "iopub.status.idle": "2025-02-08T21:22:28.507350Z",
     "shell.execute_reply": "2025-02-08T21:22:28.506382Z"
    },
    "papermill": {
     "duration": 0.019483,
     "end_time": "2025-02-08T21:22:28.509199",
     "exception": false,
     "start_time": "2025-02-08T21:22:28.489716",
     "status": "completed"
    },
    "tags": []
   },
   "outputs": [
    {
     "data": {
      "text/plain": [
       "rating\n",
       "Not given    736\n",
       "5            588\n",
       "4            386\n",
       "3            188\n",
       "Name: count, dtype: int64"
      ]
     },
     "execution_count": 10,
     "metadata": {},
     "output_type": "execute_result"
    }
   ],
   "source": [
    "df['rating'].value_counts()\n",
    "#from below we see that unratted are many so we resort to assuming they are average"
   ]
  },
  {
   "cell_type": "code",
   "execution_count": 11,
   "id": "20bf5dd9",
   "metadata": {
    "execution": {
     "iopub.execute_input": "2025-02-08T21:22:28.528054Z",
     "iopub.status.busy": "2025-02-08T21:22:28.527663Z",
     "iopub.status.idle": "2025-02-08T21:22:28.838988Z",
     "shell.execute_reply": "2025-02-08T21:22:28.837891Z"
    },
    "papermill": {
     "duration": 0.322921,
     "end_time": "2025-02-08T21:22:28.840909",
     "exception": false,
     "start_time": "2025-02-08T21:22:28.517988",
     "status": "completed"
    },
    "tags": []
   },
   "outputs": [
    {
     "data": {
      "text/plain": [
       "<Axes: xlabel='rating', ylabel='count'>"
      ]
     },
     "execution_count": 11,
     "metadata": {},
     "output_type": "execute_result"
    },
    {
     "data": {
      "image/png": "[encoded data removed]",
      "text/plain": [
       "<Figure size 640x480 with 1 Axes>"
      ]
     },
     "metadata": {},
     "output_type": "display_data"
    }
   ],
   "source": [
    "sns.countplot(data = df, x = 'rating')"
   ]
  },
  {
   "cell_type": "markdown",
   "id": "e1b28d9d",
   "metadata": {
    "papermill": {
     "duration": 0.008744,
     "end_time": "2025-02-08T21:22:28.858904",
     "exception": false,
     "start_time": "2025-02-08T21:22:28.850160",
     "status": "completed"
    },
    "tags": []
   },
   "source": [
    "# DETAILED ANALYSIS FROM WHICH WE CAN DERIVE SOME INSIGHTS"
   ]
  },
  {
   "cell_type": "code",
   "execution_count": 12,
   "id": "842a0509",
   "metadata": {
    "execution": {
     "iopub.execute_input": "2025-02-08T21:22:28.878565Z",
     "iopub.status.busy": "2025-02-08T21:22:28.878138Z",
     "iopub.status.idle": "2025-02-08T21:22:28.885106Z",
     "shell.execute_reply": "2025-02-08T21:22:28.883989Z"
    },
    "papermill": {
     "duration": 0.019057,
     "end_time": "2025-02-08T21:22:28.887038",
     "exception": false,
     "start_time": "2025-02-08T21:22:28.867981",
     "status": "completed"
    },
    "tags": []
   },
   "outputs": [
    {
     "data": {
      "text/plain": [
       "1898"
      ]
     },
     "execution_count": 12,
     "metadata": {},
     "output_type": "execute_result"
    }
   ],
   "source": [
    "#checking for unique IDs of various variables\n",
    "# check unique order ID if there any repetitions, if it equals number or rows its okaey\n",
    "df['order_id'].nunique()"
   ]
  },
  {
   "cell_type": "code",
   "execution_count": 13,
   "id": "c90196e0",
   "metadata": {
    "execution": {
     "iopub.execute_input": "2025-02-08T21:22:28.906559Z",
     "iopub.status.busy": "2025-02-08T21:22:28.906143Z",
     "iopub.status.idle": "2025-02-08T21:22:28.912873Z",
     "shell.execute_reply": "2025-02-08T21:22:28.911915Z"
    },
    "papermill": {
     "duration": 0.018271,
     "end_time": "2025-02-08T21:22:28.914598",
     "exception": false,
     "start_time": "2025-02-08T21:22:28.896327",
     "status": "completed"
    },
    "tags": []
   },
   "outputs": [
    {
     "data": {
      "text/plain": [
       "1200"
      ]
     },
     "execution_count": 13,
     "metadata": {},
     "output_type": "execute_result"
    }
   ],
   "source": [
    "# check unique customer ID\n",
    "df['customer_id'].nunique()"
   ]
  },
  {
   "cell_type": "code",
   "execution_count": 14,
   "id": "bda91a2a",
   "metadata": {
    "execution": {
     "iopub.execute_input": "2025-02-08T21:22:28.934596Z",
     "iopub.status.busy": "2025-02-08T21:22:28.934143Z",
     "iopub.status.idle": "2025-02-08T21:22:28.940740Z",
     "shell.execute_reply": "2025-02-08T21:22:28.939829Z"
    },
    "papermill": {
     "duration": 0.018197,
     "end_time": "2025-02-08T21:22:28.942239",
     "exception": false,
     "start_time": "2025-02-08T21:22:28.924042",
     "status": "completed"
    },
    "tags": []
   },
   "outputs": [
    {
     "data": {
      "text/plain": [
       "178"
      ]
     },
     "execution_count": 14,
     "metadata": {},
     "output_type": "execute_result"
    }
   ],
   "source": [
    "# check unique Restaurant Name\n",
    "df['restaurant_name'].nunique()"
   ]
  },
  {
   "cell_type": "code",
   "execution_count": 15,
   "id": "3a630d67",
   "metadata": {
    "execution": {
     "iopub.execute_input": "2025-02-08T21:22:28.962255Z",
     "iopub.status.busy": "2025-02-08T21:22:28.961911Z",
     "iopub.status.idle": "2025-02-08T21:22:28.967991Z",
     "shell.execute_reply": "2025-02-08T21:22:28.967057Z"
    },
    "papermill": {
     "duration": 0.017958,
     "end_time": "2025-02-08T21:22:28.969715",
     "exception": false,
     "start_time": "2025-02-08T21:22:28.951757",
     "status": "completed"
    },
    "tags": []
   },
   "outputs": [
    {
     "data": {
      "text/plain": [
       "14"
      ]
     },
     "execution_count": 15,
     "metadata": {},
     "output_type": "execute_result"
    }
   ],
   "source": [
    "# Check unique cuisine type\n",
    "df['cuisine_type'].nunique()"
   ]
  },
  {
   "cell_type": "markdown",
   "id": "aede4dc3",
   "metadata": {
    "papermill": {
     "duration": 0.008913,
     "end_time": "2025-02-08T21:22:28.988271",
     "exception": false,
     "start_time": "2025-02-08T21:22:28.979358",
     "status": "completed"
    },
    "tags": []
   },
   "source": [
    "***SOME GRAPHS***"
   ]
  },
  {
   "cell_type": "code",
   "execution_count": 16,
   "id": "2735794c",
   "metadata": {
    "execution": {
     "iopub.execute_input": "2025-02-08T21:22:29.008345Z",
     "iopub.status.busy": "2025-02-08T21:22:29.007999Z",
     "iopub.status.idle": "2025-02-08T21:22:29.303063Z",
     "shell.execute_reply": "2025-02-08T21:22:29.301920Z"
    },
    "papermill": {
     "duration": 0.307546,
     "end_time": "2025-02-08T21:22:29.305187",
     "exception": false,
     "start_time": "2025-02-08T21:22:28.997641",
     "status": "completed"
    },
    "tags": []
   },
   "outputs": [
    {
     "data": {
      "text/plain": [
       "<Axes: xlabel='cuisine_type', ylabel='count'>"
      ]
     },
     "execution_count": 16,
     "metadata": {},
     "output_type": "execute_result"
    },
    {
     "data": {
      "image/png": "[encoded data removed]",
      "text/plain": [
       "<Figure size 1500x500 with 1 Axes>"
      ]
     },
     "metadata": {},
     "output_type": "display_data"
    }
   ],
   "source": [
    "#Cuisine type against how many orders ordered\n",
    "plt.figure(figsize = (15,5))\n",
    "sns.countplot(data = df, x = 'cuisine_type')"
   ]
  },
  {
   "cell_type": "code",
   "execution_count": 17,
   "id": "02fc57d5",
   "metadata": {
    "execution": {
     "iopub.execute_input": "2025-02-08T21:22:29.327276Z",
     "iopub.status.busy": "2025-02-08T21:22:29.326880Z",
     "iopub.status.idle": "2025-02-08T21:22:29.680260Z",
     "shell.execute_reply": "2025-02-08T21:22:29.678997Z"
    },
    "papermill": {
     "duration": 0.366462,
     "end_time": "2025-02-08T21:22:29.682178",
     "exception": false,
     "start_time": "2025-02-08T21:22:29.315716",
     "status": "completed"
    },
    "tags": []
   },
   "outputs": [
    {
     "data": {
      "image/png": "[encoded data removed]",
      "text/plain": [
       "<Figure size 640x480 with 1 Axes>"
      ]
     },
     "metadata": {},
     "output_type": "display_data"
    },
    {
     "name": "stderr",
     "output_type": "stream",
     "text": [
      "/usr/local/lib/python3.10/dist-packages/seaborn/categorical.py:640: FutureWarning: SeriesGroupBy.grouper is deprecated and will be removed in a future version of pandas.\n",
      "  positions = grouped.grouper.result_index.to_numpy(dtype=float)\n"
     ]
    },
    {
     "data": {
      "image/png": "[encoded data removed]",
      "text/plain": [
       "<Figure size 640x480 with 1 Axes>"
      ]
     },
     "metadata": {},
     "output_type": "display_data"
    }
   ],
   "source": [
    "#histplot and boxplot of the cost of orders, number of orders per cost\n",
    "sns.histplot(data=df,x='cost_of_the_order')\n",
    "plt.show()\n",
    "sns.boxplot(data=df,x='cost_of_the_order')\n",
    "plt.show()"
   ]
  },
  {
   "cell_type": "code",
   "execution_count": 18,
   "id": "7f0b1d8e",
   "metadata": {
    "execution": {
     "iopub.execute_input": "2025-02-08T21:22:29.707418Z",
     "iopub.status.busy": "2025-02-08T21:22:29.706974Z",
     "iopub.status.idle": "2025-02-08T21:22:29.882731Z",
     "shell.execute_reply": "2025-02-08T21:22:29.881580Z"
    },
    "papermill": {
     "duration": 0.190961,
     "end_time": "2025-02-08T21:22:29.884508",
     "exception": false,
     "start_time": "2025-02-08T21:22:29.693547",
     "status": "completed"
    },
    "tags": []
   },
   "outputs": [
    {
     "data": {
      "text/plain": [
       "<Axes: xlabel='day_of_the_week', ylabel='count'>"
      ]
     },
     "execution_count": 18,
     "metadata": {},
     "output_type": "execute_result"
    },
    {
     "data": {
      "image/png": "[encoded data removed]",
      "text/plain": [
       "<Figure size 640x480 with 1 Axes>"
      ]
     },
     "metadata": {},
     "output_type": "display_data"
    }
   ],
   "source": [
    "#the graph of how frequent orders are placed during the week against weekends\n",
    "sns.countplot(data = df, x = 'day_of_the_week')"
   ]
  },
  {
   "cell_type": "code",
   "execution_count": 19,
   "id": "faf81cda",
   "metadata": {
    "execution": {
     "iopub.execute_input": "2025-02-08T21:22:29.908637Z",
     "iopub.status.busy": "2025-02-08T21:22:29.908255Z",
     "iopub.status.idle": "2025-02-08T21:22:30.100827Z",
     "shell.execute_reply": "2025-02-08T21:22:30.099713Z"
    },
    "papermill": {
     "duration": 0.206846,
     "end_time": "2025-02-08T21:22:30.102662",
     "exception": false,
     "start_time": "2025-02-08T21:22:29.895816",
     "status": "completed"
    },
    "tags": []
   },
   "outputs": [
    {
     "data": {
      "text/plain": [
       "<Axes: xlabel='rating', ylabel='count'>"
      ]
     },
     "execution_count": 19,
     "metadata": {},
     "output_type": "execute_result"
    },
    {
     "data": {
      "image/png": "[encoded data removed]",
      "text/plain": [
       "<Figure size 640x480 with 1 Axes>"
      ]
     },
     "metadata": {},
     "output_type": "display_data"
    }
   ],
   "source": [
    "#graph of ratings given bby customers\n",
    "sns.countplot(data = df, x = 'rating')"
   ]
  },
  {
   "cell_type": "code",
   "execution_count": 20,
   "id": "9e13abea",
   "metadata": {
    "execution": {
     "iopub.execute_input": "2025-02-08T21:22:30.127643Z",
     "iopub.status.busy": "2025-02-08T21:22:30.127188Z",
     "iopub.status.idle": "2025-02-08T21:22:30.483155Z",
     "shell.execute_reply": "2025-02-08T21:22:30.481880Z"
    },
    "papermill": {
     "duration": 0.370334,
     "end_time": "2025-02-08T21:22:30.484985",
     "exception": false,
     "start_time": "2025-02-08T21:22:30.114651",
     "status": "completed"
    },
    "tags": []
   },
   "outputs": [
    {
     "data": {
      "image/png": "[encoded data removed]",
      "text/plain": [
       "<Figure size 640x480 with 1 Axes>"
      ]
     },
     "metadata": {},
     "output_type": "display_data"
    },
    {
     "name": "stderr",
     "output_type": "stream",
     "text": [
      "/usr/local/lib/python3.10/dist-packages/seaborn/categorical.py:640: FutureWarning: SeriesGroupBy.grouper is deprecated and will be removed in a future version of pandas.\n",
      "  positions = grouped.grouper.result_index.to_numpy(dtype=float)\n"
     ]
    },
    {
     "data": {
      "image/png": "[encoded data removed]",
      "text/plain": [
       "<Figure size 640x480 with 1 Axes>"
      ]
     },
     "metadata": {},
     "output_type": "display_data"
    }
   ],
   "source": [
    "#Food preparation time\n",
    "sns.histplot(data=df,x='food_preparation_time')\n",
    "plt.show()\n",
    "sns.boxplot(data=df,x='food_preparation_time')\n",
    "plt.show()"
   ]
  },
  {
   "cell_type": "code",
   "execution_count": 21,
   "id": "70fa1e9d",
   "metadata": {
    "execution": {
     "iopub.execute_input": "2025-02-08T21:22:30.512341Z",
     "iopub.status.busy": "2025-02-08T21:22:30.511964Z",
     "iopub.status.idle": "2025-02-08T21:22:30.899493Z",
     "shell.execute_reply": "2025-02-08T21:22:30.898068Z"
    },
    "papermill": {
     "duration": 0.40368,
     "end_time": "2025-02-08T21:22:30.901976",
     "exception": false,
     "start_time": "2025-02-08T21:22:30.498296",
     "status": "completed"
    },
    "tags": []
   },
   "outputs": [
    {
     "data": {
      "image/png": "[encoded data removed]",
      "text/plain": [
       "<Figure size 640x480 with 1 Axes>"
      ]
     },
     "metadata": {},
     "output_type": "display_data"
    },
    {
     "name": "stderr",
     "output_type": "stream",
     "text": [
      "/usr/local/lib/python3.10/dist-packages/seaborn/categorical.py:640: FutureWarning: SeriesGroupBy.grouper is deprecated and will be removed in a future version of pandas.\n",
      "  positions = grouped.grouper.result_index.to_numpy(dtype=float)\n"
     ]
    },
    {
     "data": {
      "image/png": "[encoded data removed]",
      "text/plain": [
       "<Figure size 640x480 with 1 Axes>"
      ]
     },
     "metadata": {},
     "output_type": "display_data"
    }
   ],
   "source": [
    "#Delivery time\n",
    "sns.histplot(data=df,x='delivery_time')\n",
    "plt.show()\n",
    "sns.boxplot(data=df,x='delivery_time')\n",
    "plt.show()"
   ]
  },
  {
   "cell_type": "markdown",
   "id": "b3894c98",
   "metadata": {
    "papermill": {
     "duration": 0.012928,
     "end_time": "2025-02-08T21:22:30.929707",
     "exception": false,
     "start_time": "2025-02-08T21:22:30.916779",
     "status": "completed"
    },
    "tags": []
   },
   "source": [
    "# Top 5 restaurants by orders"
   ]
  },
  {
   "cell_type": "code",
   "execution_count": 22,
   "id": "14c6b006",
   "metadata": {
    "execution": {
     "iopub.execute_input": "2025-02-08T21:22:30.957566Z",
     "iopub.status.busy": "2025-02-08T21:22:30.957104Z",
     "iopub.status.idle": "2025-02-08T21:22:30.965511Z",
     "shell.execute_reply": "2025-02-08T21:22:30.964528Z"
    },
    "papermill": {
     "duration": 0.024141,
     "end_time": "2025-02-08T21:22:30.967163",
     "exception": false,
     "start_time": "2025-02-08T21:22:30.943022",
     "status": "completed"
    },
    "tags": []
   },
   "outputs": [
    {
     "data": {
      "text/plain": [
       "restaurant_name\n",
       "Shake Shack                  219\n",
       "The Meatball Shop            132\n",
       "Blue Ribbon Sushi            119\n",
       "Blue Ribbon Fried Chicken     96\n",
       "Parm                          68\n",
       "Name: count, dtype: int64"
      ]
     },
     "execution_count": 22,
     "metadata": {},
     "output_type": "execute_result"
    }
   ],
   "source": [
    "df['restaurant_name'].value_counts().head(5)"
   ]
  },
  {
   "cell_type": "markdown",
   "id": "4b4ee47e",
   "metadata": {
    "papermill": {
     "duration": 0.012763,
     "end_time": "2025-02-08T21:22:30.993270",
     "exception": false,
     "start_time": "2025-02-08T21:22:30.980507",
     "status": "completed"
    },
    "tags": []
   },
   "source": [
    "# Popular cuisine on weekends"
   ]
  },
  {
   "cell_type": "code",
   "execution_count": 23,
   "id": "05da8925",
   "metadata": {
    "execution": {
     "iopub.execute_input": "2025-02-08T21:22:31.021140Z",
     "iopub.status.busy": "2025-02-08T21:22:31.020784Z",
     "iopub.status.idle": "2025-02-08T21:22:31.030986Z",
     "shell.execute_reply": "2025-02-08T21:22:31.029735Z"
    },
    "papermill": {
     "duration": 0.026645,
     "end_time": "2025-02-08T21:22:31.032993",
     "exception": false,
     "start_time": "2025-02-08T21:22:31.006348",
     "status": "completed"
    },
    "tags": []
   },
   "outputs": [
    {
     "data": {
      "text/plain": [
       "'American'"
      ]
     },
     "execution_count": 23,
     "metadata": {},
     "output_type": "execute_result"
    }
   ],
   "source": [
    "#first define df-weekend\n",
    "df_weekend = df[df['day_of_the_week'] == 'Weekend']\n",
    "df_weekend['cuisine_type'].value_counts().idxmax()"
   ]
  },
  {
   "cell_type": "markdown",
   "id": "b2191378",
   "metadata": {
    "papermill": {
     "duration": 0.013127,
     "end_time": "2025-02-08T21:22:31.059684",
     "exception": false,
     "start_time": "2025-02-08T21:22:31.046557",
     "status": "completed"
    },
    "tags": []
   },
   "source": [
    "# Fractionor percentage of cuisines that cost >$20"
   ]
  },
  {
   "cell_type": "code",
   "execution_count": 24,
   "id": "492ad6c8",
   "metadata": {
    "execution": {
     "iopub.execute_input": "2025-02-08T21:22:31.087812Z",
     "iopub.status.busy": "2025-02-08T21:22:31.087348Z",
     "iopub.status.idle": "2025-02-08T21:22:31.095241Z",
     "shell.execute_reply": "2025-02-08T21:22:31.094173Z"
    },
    "papermill": {
     "duration": 0.023821,
     "end_time": "2025-02-08T21:22:31.096891",
     "exception": false,
     "start_time": "2025-02-08T21:22:31.073070",
     "status": "completed"
    },
    "tags": []
   },
   "outputs": [
    {
     "name": "stdout",
     "output_type": "stream",
     "text": [
      "The number of total orders that cost above 20 dollars is: 555\n",
      "Percentage of orders above 20 dollars: 29.24 %\n"
     ]
    }
   ],
   "source": [
    "# Get orders that cost above 20 dollars\n",
    "df_greater_than_20 = df[df['cost_of_the_order']>20] \n",
    "\n",
    "# Calculate the number of total orders where the cost is above 20 dollars\n",
    "print('The number of total orders that cost above 20 dollars is:', df_greater_than_20.shape[0])\n",
    "\n",
    "# Calculate percentage of such orders in the dataset\n",
    "percentage = (df_greater_than_20.shape[0] / df.shape[0]) * 100\n",
    "\n",
    "print(\"Percentage of orders above 20 dollars:\", round(percentage, 2), '%')"
   ]
  },
  {
   "cell_type": "markdown",
   "id": "13356c39",
   "metadata": {
    "papermill": {
     "duration": 0.013106,
     "end_time": "2025-02-08T21:22:31.123637",
     "exception": false,
     "start_time": "2025-02-08T21:22:31.110531",
     "status": "completed"
    },
    "tags": []
   },
   "source": [
    "# Cuisine against time taken to prepare"
   ]
  },
  {
   "cell_type": "code",
   "execution_count": 25,
   "id": "b99681f3",
   "metadata": {
    "execution": {
     "iopub.execute_input": "2025-02-08T21:22:31.152783Z",
     "iopub.status.busy": "2025-02-08T21:22:31.152343Z",
     "iopub.status.idle": "2025-02-08T21:22:31.615509Z",
     "shell.execute_reply": "2025-02-08T21:22:31.614363Z"
    },
    "papermill": {
     "duration": 0.480534,
     "end_time": "2025-02-08T21:22:31.617702",
     "exception": false,
     "start_time": "2025-02-08T21:22:31.137168",
     "status": "completed"
    },
    "tags": []
   },
   "outputs": [
    {
     "name": "stderr",
     "output_type": "stream",
     "text": [
      "/usr/local/lib/python3.10/dist-packages/seaborn/categorical.py:640: FutureWarning: SeriesGroupBy.grouper is deprecated and will be removed in a future version of pandas.\n",
      "  positions = grouped.grouper.result_index.to_numpy(dtype=float)\n"
     ]
    },
    {
     "data": {
      "image/png": "[encoded data removed]",
      "text/plain": [
       "<Figure size 1500x700 with 1 Axes>"
      ]
     },
     "metadata": {},
     "output_type": "display_data"
    }
   ],
   "source": [
    "plt.figure(figsize=(15,7))\n",
    "sns.boxplot(x='cuisine_type', y='food_preparation_time', data=df)\n",
    "plt.xticks(rotation=60)\n",
    "plt.show()"
   ]
  },
  {
   "cell_type": "code",
   "execution_count": 26,
   "id": "51fd2829",
   "metadata": {
    "execution": {
     "iopub.execute_input": "2025-02-08T21:22:31.649235Z",
     "iopub.status.busy": "2025-02-08T21:22:31.648856Z",
     "iopub.status.idle": "2025-02-08T21:22:31.952828Z",
     "shell.execute_reply": "2025-02-08T21:22:31.951547Z"
    },
    "papermill": {
     "duration": 0.32161,
     "end_time": "2025-02-08T21:22:31.954757",
     "exception": false,
     "start_time": "2025-02-08T21:22:31.633147",
     "status": "completed"
    },
    "tags": []
   },
   "outputs": [
    {
     "name": "stderr",
     "output_type": "stream",
     "text": [
      "<ipython-input-26-4b85559e1264>:2: FutureWarning: \n",
      "\n",
      "The `ci` parameter is deprecated. Use `errorbar=None` for the same effect.\n",
      "\n",
      "  sns.barplot(y='cuisine_type', x='food_preparation_time', data=df, estimator=np.mean, ci=None)\n"
     ]
    },
    {
     "data": {
      "image/png": "[encoded data removed]",
      "text/plain": [
       "<Figure size 1200x800 with 1 Axes>"
      ]
     },
     "metadata": {},
     "output_type": "display_data"
    }
   ],
   "source": [
    "plt.figure(figsize=(12, 8))\n",
    "sns.barplot(y='cuisine_type', x='food_preparation_time', data=df, estimator=np.mean, ci=None)\n",
    "plt.xlabel(\"Average Preparation Time (minutes)\")\n",
    "plt.ylabel(\"Cuisine Type\")\n",
    "plt.title(\"Average Food Preparation Time by Cuisine Type\")\n",
    "plt.show()"
   ]
  }
 ],
 "metadata": {
  "kaggle": {
   "accelerator": "none",
   "dataSources": [
    {
     "datasetId": 4082810,
     "sourceId": 7086226,
     "sourceType": "datasetVersion"
    }
   ],
   "dockerImageVersionId": 30886,
   "isGpuEnabled": false,
   "isInternetEnabled": true,
   "language": "python",
   "sourceType": "notebook"
  },
  "kernelspec": {
   "display_name": "Python 3",
   "language": "python",
   "name": "python3"
  },
  "language_info": {
   "codemirror_mode": {
    "name": "ipython",
    "version": 3
   },
   "file_extension": ".py",
   "mimetype": "text/x-python",
   "name": "python",
   "nbconvert_exporter": "python",
   "pygments_lexer": "ipython3",
   "version": "3.10.12"
  },
  "papermill": {
   "default_parameters": {},
   "duration": 40.288383,
   "end_time": "2025-02-08T21:22:32.793894",
   "environment_variables": {},
   "exception": null,
   "input_path": "__notebook__.ipynb",
   "output_path": "__notebook__.ipynb",
   "parameters": {},
   "start_time": "2025-02-08T21:21:52.505511",
   "version": "2.6.0"
  }
 },
 "nbformat": 4,
 "nbformat_minor": 5
}
